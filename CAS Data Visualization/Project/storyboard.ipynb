{
 "cells": [
  {
   "cell_type": "code",
   "execution_count": 1,
   "metadata": {},
   "outputs": [
    {
     "name": "stderr",
     "output_type": "stream",
     "text": [
      "\n",
      "Attaching package: 'dplyr'\n",
      "\n",
      "The following objects are masked from 'package:stats':\n",
      "\n",
      "    filter, lag\n",
      "\n",
      "The following objects are masked from 'package:base':\n",
      "\n",
      "    intersect, setdiff, setequal, union\n",
      "\n"
     ]
    }
   ],
   "source": [
    "library(readr)\n",
    "library(ggplot2)\n",
    "library(dplyr)"
   ]
  },
  {
   "cell_type": "code",
   "execution_count": 2,
   "metadata": {
    "collapsed": true
   },
   "outputs": [],
   "source": [
    "# TODO; \n",
    "# - Identify stories\n",
    "# - Worst Tendency has to be done with per capita or in percent"
   ]
  },
  {
   "cell_type": "code",
   "execution_count": 3,
   "metadata": {},
   "outputs": [
    {
     "name": "stderr",
     "output_type": "stream",
     "text": [
      "Parsed with column specification:\n",
      "cols(\n",
      "  `Country Name` = col_character(),\n",
      "  shortName = col_character(),\n",
      "  EFConsPerCap = col_double(),\n",
      "  HDI = col_double(),\n",
      "  Population = col_double()\n",
      ")\n",
      "Warning message:\n",
      "\"176 parsing failures.\n",
      "row col  expected    actual\n",
      "  1  -- 5 columns 6 columns\n",
      "  2  -- 5 columns 6 columns\n",
      "  3  -- 5 columns 6 columns\n",
      "  4  -- 5 columns 6 columns\n",
      "  5  -- 5 columns 6 columns\n",
      "... ... ......... .........\n",
      "See problems(...) for more details.\n",
      "\""
     ]
    }
   ],
   "source": [
    "# Laender mit HDI und Groesse der Population\n",
    "country_metrics <- read_csv(\n",
    "  paste0(\"C:/Source/mas-data-science/CAS Data Visualization/Project/\",\n",
    "         \"country_metrics.csv\"))"
   ]
  },
  {
   "cell_type": "code",
   "execution_count": 4,
   "metadata": {},
   "outputs": [
    {
     "name": "stderr",
     "output_type": "stream",
     "text": [
      "Parsed with column specification:\n",
      "cols(\n",
      "  Country = col_character(),\n",
      "  EF2013 = col_double(),\n",
      "  EF2009 = col_double(),\n",
      "  GDP2013 = col_double(),\n",
      "  GDP2009 = col_double(),\n",
      "  EFDelta = col_double(),\n",
      "  GDPDelta = col_double(),\n",
      "  DDelta = col_double(),\n",
      "  EFDelta_P = col_double(),\n",
      "  GDPDelta_P = col_double(),\n",
      "  DDelta_P = col_double(),\n",
      "  DDelta_Rank = col_double(),\n",
      "  EFDelta_Rank = col_double(),\n",
      "  GDPDelta_Rank = col_double(),\n",
      "  Dec_Flag = col_double(),\n",
      "  GDP_std = col_double()\n",
      ")\n"
     ]
    }
   ],
   "source": [
    "# Veraenderungen in den Ländern\n",
    "country_deltas <- read_csv(\n",
    "  paste0(\"C:/Source/mas-data-science/CAS Data Visualization/Project/\",\n",
    "         \"EF_GDP(constant2010USD).csv\"))"
   ]
  },
  {
   "cell_type": "code",
   "execution_count": 5,
   "metadata": {
    "collapsed": true
   },
   "outputs": [],
   "source": [
    "# Joining everthing together\n",
    "left_join(country_deltas, country_metrics, \n",
    "          by = c(\"Country\" = \"Country Name\")) -> country_metrics_with_impact  "
   ]
  },
  {
   "cell_type": "code",
   "execution_count": 6,
   "metadata": {},
   "outputs": [
    {
     "data": {
      "text/html": [
       "<table>\n",
       "<thead><tr><th scope=col>Country</th><th scope=col>EF2013</th><th scope=col>EF2009</th><th scope=col>GDP2013</th><th scope=col>GDP2009</th><th scope=col>EFDelta</th><th scope=col>GDPDelta</th><th scope=col>DDelta</th><th scope=col>EFDelta_P</th><th scope=col>GDPDelta_P</th><th scope=col>DDelta_P</th><th scope=col>DDelta_Rank</th><th scope=col>EFDelta_Rank</th><th scope=col>GDPDelta_Rank</th><th scope=col>Dec_Flag</th><th scope=col>GDP_std</th><th scope=col>shortName</th><th scope=col>EFConsPerCap</th><th scope=col>HDI</th><th scope=col>Population</th></tr></thead>\n",
       "<tbody>\n",
       "\t<tr><td>Afghanistan </td><td> 27270736   </td><td> 20868574   </td><td>1.973134e+10</td><td>1.469733e+10</td><td>  6402162.5 </td><td>  5034005320</td><td>  5027603158</td><td>30.678486   </td><td>34.251151   </td><td>  3.572665  </td><td>102         </td><td>149         </td><td>140         </td><td>0           </td><td> 28.05540   </td><td>Afghanistan </td><td>0.89        </td><td>0.48        </td><td> 30682500   </td></tr>\n",
       "\t<tr><td>Albania     </td><td>  6616186   </td><td>  6815357   </td><td>1.254247e+10</td><td>1.150029e+10</td><td>  -199170.9 </td><td>  1042172611</td><td>  1042371782</td><td>-2.922384   </td><td> 9.062140   </td><td> 11.984524  </td><td> 62         </td><td> 34         </td><td> 47         </td><td>1           </td><td> 26.92949   </td><td>Albania     </td><td>2.29        </td><td>0.76        </td><td>  2883281   </td></tr>\n",
       "\t<tr><td>Algeria     </td><td> 90957355   </td><td> 76216524   </td><td>1.763250e+11</td><td>1.556050e+11</td><td> 14740830.8 </td><td> 20720000000</td><td> 20705259169</td><td>19.340728   </td><td>13.315767   </td><td> -6.024961  </td><td>135         </td><td>128         </td><td> 69         </td><td>0           </td><td> 52.58095   </td><td>Algeria     </td><td>2.38        </td><td>0.74        </td><td> 38186136   </td></tr>\n",
       "\t<tr><td>Angola      </td><td> 22957308   </td><td> 17607133   </td><td>9.626143e+10</td><td>7.975320e+10</td><td>  5350175.7 </td><td> 16508232970</td><td> 16502882794</td><td>30.386411   </td><td>20.699148   </td><td> -9.687263  </td><td>142         </td><td>148         </td><td>101         </td><td>0           </td><td> 40.04147   </td><td>Angola      </td><td>0.98        </td><td>0.53        </td><td> 23448200   </td></tr>\n",
       "\t<tr><td>Argentina   </td><td>158699622   </td><td>119344052   </td><td>4.576390e+11</td><td>3.859560e+11</td><td> 39355570.6 </td><td> 71683000000</td><td> 71643644429</td><td>32.976566   </td><td>18.572843   </td><td>-14.403724  </td><td>146         </td><td>151         </td><td> 93         </td><td>0           </td><td> 96.64007   </td><td>Argentina   </td><td>3.73        </td><td>0.82        </td><td> 42538304   </td></tr>\n",
       "\t<tr><td>Armenia     </td><td>  6193203   </td><td>  5844214   </td><td>1.073658e+10</td><td>9.060944e+09</td><td>   348989.1 </td><td>  1675640140</td><td>  1675291151</td><td> 5.971531   </td><td>18.492997   </td><td> 12.521466  </td><td> 58         </td><td> 71         </td><td> 92         </td><td>0           </td><td> 26.64665   </td><td>Armenia     </td><td>2.07        </td><td>0.74        </td><td>  2992192   </td></tr>\n",
       "\t<tr><td>Australia   </td><td>204837815   </td><td>216496002   </td><td>1.241480e+12</td><td>1.119650e+12</td><td>-11658186.1 </td><td>121830000000</td><td>121841658186</td><td>-5.384943   </td><td>10.881079   </td><td> 16.266022  </td><td> 44         </td><td> 26         </td><td> 56         </td><td>1           </td><td>219.40449   </td><td>Australia   </td><td>8.80        </td><td>0.94        </td><td> 23270464   </td></tr>\n",
       "\t<tr><td>Austria     </td><td> 51883278   </td><td> 49630217   </td><td>4.046870e+11</td><td>3.828510e+11</td><td>  2253060.8 </td><td> 21836000000</td><td> 21833746939</td><td> 4.539696   </td><td> 5.703524   </td><td>  1.163829  </td><td>115         </td><td> 68         </td><td> 33         </td><td>0           </td><td> 88.34678   </td><td>Austria     </td><td>6.11        </td><td>0.89        </td><td>  8486962   </td></tr>\n",
       "\t<tr><td>Azerbaijan  </td><td> 21861066   </td><td> 18768195   </td><td>5.723834e+10</td><td>5.045352e+10</td><td>  3092870.6 </td><td>  6784817568</td><td>  6781724697</td><td>16.479318   </td><td>13.447660   </td><td> -3.031658  </td><td>131         </td><td>116         </td><td> 70         </td><td>0           </td><td> 33.92971   </td><td>Azerbaijan  </td><td>2.30        </td><td>0.75        </td><td>  9497496   </td></tr>\n",
       "\t<tr><td>Bangladesh  </td><td>117772779   </td><td>100248357   </td><td>1.385970e+11</td><td>1.091950e+11</td><td> 17524421.6 </td><td> 29402000000</td><td> 29384475578</td><td>17.481006   </td><td>26.926141   </td><td>  9.445135  </td><td> 72         </td><td>119         </td><td>119         </td><td>0           </td><td> 46.67203   </td><td>Bangladesh  </td><td>0.75        </td><td>0.57        </td><td>157157392   </td></tr>\n",
       "</tbody>\n",
       "</table>\n"
      ],
      "text/latex": [
       "\\begin{tabular}{r|llllllllllllllllllll}\n",
       " Country & EF2013 & EF2009 & GDP2013 & GDP2009 & EFDelta & GDPDelta & DDelta & EFDelta\\_P & GDPDelta\\_P & DDelta\\_P & DDelta\\_Rank & EFDelta\\_Rank & GDPDelta\\_Rank & Dec\\_Flag & GDP\\_std & shortName & EFConsPerCap & HDI & Population\\\\\n",
       "\\hline\n",
       "\t Afghanistan  &  27270736    &  20868574    & 1.973134e+10 & 1.469733e+10 &   6402162.5  &   5034005320 &   5027603158 & 30.678486    & 34.251151    &   3.572665   & 102          & 149          & 140          & 0            &  28.05540    & Afghanistan  & 0.89         & 0.48         &  30682500   \\\\\n",
       "\t Albania      &   6616186    &   6815357    & 1.254247e+10 & 1.150029e+10 &   -199170.9  &   1042172611 &   1042371782 & -2.922384    &  9.062140    &  11.984524   &  62          &  34          &  47          & 1            &  26.92949    & Albania      & 2.29         & 0.76         &   2883281   \\\\\n",
       "\t Algeria      &  90957355    &  76216524    & 1.763250e+11 & 1.556050e+11 &  14740830.8  &  20720000000 &  20705259169 & 19.340728    & 13.315767    &  -6.024961   & 135          & 128          &  69          & 0            &  52.58095    & Algeria      & 2.38         & 0.74         &  38186136   \\\\\n",
       "\t Angola       &  22957308    &  17607133    & 9.626143e+10 & 7.975320e+10 &   5350175.7  &  16508232970 &  16502882794 & 30.386411    & 20.699148    &  -9.687263   & 142          & 148          & 101          & 0            &  40.04147    & Angola       & 0.98         & 0.53         &  23448200   \\\\\n",
       "\t Argentina    & 158699622    & 119344052    & 4.576390e+11 & 3.859560e+11 &  39355570.6  &  71683000000 &  71643644429 & 32.976566    & 18.572843    & -14.403724   & 146          & 151          &  93          & 0            &  96.64007    & Argentina    & 3.73         & 0.82         &  42538304   \\\\\n",
       "\t Armenia      &   6193203    &   5844214    & 1.073658e+10 & 9.060944e+09 &    348989.1  &   1675640140 &   1675291151 &  5.971531    & 18.492997    &  12.521466   &  58          &  71          &  92          & 0            &  26.64665    & Armenia      & 2.07         & 0.74         &   2992192   \\\\\n",
       "\t Australia    & 204837815    & 216496002    & 1.241480e+12 & 1.119650e+12 & -11658186.1  & 121830000000 & 121841658186 & -5.384943    & 10.881079    &  16.266022   &  44          &  26          &  56          & 1            & 219.40449    & Australia    & 8.80         & 0.94         &  23270464   \\\\\n",
       "\t Austria      &  51883278    &  49630217    & 4.046870e+11 & 3.828510e+11 &   2253060.8  &  21836000000 &  21833746939 &  4.539696    &  5.703524    &   1.163829   & 115          &  68          &  33          & 0            &  88.34678    & Austria      & 6.11         & 0.89         &   8486962   \\\\\n",
       "\t Azerbaijan   &  21861066    &  18768195    & 5.723834e+10 & 5.045352e+10 &   3092870.6  &   6784817568 &   6781724697 & 16.479318    & 13.447660    &  -3.031658   & 131          & 116          &  70          & 0            &  33.92971    & Azerbaijan   & 2.30         & 0.75         &   9497496   \\\\\n",
       "\t Bangladesh   & 117772779    & 100248357    & 1.385970e+11 & 1.091950e+11 &  17524421.6  &  29402000000 &  29384475578 & 17.481006    & 26.926141    &   9.445135   &  72          & 119          & 119          & 0            &  46.67203    & Bangladesh   & 0.75         & 0.57         & 157157392   \\\\\n",
       "\\end{tabular}\n"
      ],
      "text/markdown": [
       "\n",
       "Country | EF2013 | EF2009 | GDP2013 | GDP2009 | EFDelta | GDPDelta | DDelta | EFDelta_P | GDPDelta_P | DDelta_P | DDelta_Rank | EFDelta_Rank | GDPDelta_Rank | Dec_Flag | GDP_std | shortName | EFConsPerCap | HDI | Population | \n",
       "|---|---|---|---|---|---|---|---|---|---|\n",
       "| Afghanistan  |  27270736    |  20868574    | 1.973134e+10 | 1.469733e+10 |   6402162.5  |   5034005320 |   5027603158 | 30.678486    | 34.251151    |   3.572665   | 102          | 149          | 140          | 0            |  28.05540    | Afghanistan  | 0.89         | 0.48         |  30682500    | \n",
       "| Albania      |   6616186    |   6815357    | 1.254247e+10 | 1.150029e+10 |   -199170.9  |   1042172611 |   1042371782 | -2.922384    |  9.062140    |  11.984524   |  62          |  34          |  47          | 1            |  26.92949    | Albania      | 2.29         | 0.76         |   2883281    | \n",
       "| Algeria      |  90957355    |  76216524    | 1.763250e+11 | 1.556050e+11 |  14740830.8  |  20720000000 |  20705259169 | 19.340728    | 13.315767    |  -6.024961   | 135          | 128          |  69          | 0            |  52.58095    | Algeria      | 2.38         | 0.74         |  38186136    | \n",
       "| Angola       |  22957308    |  17607133    | 9.626143e+10 | 7.975320e+10 |   5350175.7  |  16508232970 |  16502882794 | 30.386411    | 20.699148    |  -9.687263   | 142          | 148          | 101          | 0            |  40.04147    | Angola       | 0.98         | 0.53         |  23448200    | \n",
       "| Argentina    | 158699622    | 119344052    | 4.576390e+11 | 3.859560e+11 |  39355570.6  |  71683000000 |  71643644429 | 32.976566    | 18.572843    | -14.403724   | 146          | 151          |  93          | 0            |  96.64007    | Argentina    | 3.73         | 0.82         |  42538304    | \n",
       "| Armenia      |   6193203    |   5844214    | 1.073658e+10 | 9.060944e+09 |    348989.1  |   1675640140 |   1675291151 |  5.971531    | 18.492997    |  12.521466   |  58          |  71          |  92          | 0            |  26.64665    | Armenia      | 2.07         | 0.74         |   2992192    | \n",
       "| Australia    | 204837815    | 216496002    | 1.241480e+12 | 1.119650e+12 | -11658186.1  | 121830000000 | 121841658186 | -5.384943    | 10.881079    |  16.266022   |  44          |  26          |  56          | 1            | 219.40449    | Australia    | 8.80         | 0.94         |  23270464    | \n",
       "| Austria      |  51883278    |  49630217    | 4.046870e+11 | 3.828510e+11 |   2253060.8  |  21836000000 |  21833746939 |  4.539696    |  5.703524    |   1.163829   | 115          |  68          |  33          | 0            |  88.34678    | Austria      | 6.11         | 0.89         |   8486962    | \n",
       "| Azerbaijan   |  21861066    |  18768195    | 5.723834e+10 | 5.045352e+10 |   3092870.6  |   6784817568 |   6781724697 | 16.479318    | 13.447660    |  -3.031658   | 131          | 116          |  70          | 0            |  33.92971    | Azerbaijan   | 2.30         | 0.75         |   9497496    | \n",
       "| Bangladesh   | 117772779    | 100248357    | 1.385970e+11 | 1.091950e+11 |  17524421.6  |  29402000000 |  29384475578 | 17.481006    | 26.926141    |   9.445135   |  72          | 119          | 119          | 0            |  46.67203    | Bangladesh   | 0.75         | 0.57         | 157157392    | \n",
       "\n",
       "\n"
      ],
      "text/plain": [
       "   Country     EF2013    EF2009    GDP2013      GDP2009      EFDelta    \n",
       "1  Afghanistan  27270736  20868574 1.973134e+10 1.469733e+10   6402162.5\n",
       "2  Albania       6616186   6815357 1.254247e+10 1.150029e+10   -199170.9\n",
       "3  Algeria      90957355  76216524 1.763250e+11 1.556050e+11  14740830.8\n",
       "4  Angola       22957308  17607133 9.626143e+10 7.975320e+10   5350175.7\n",
       "5  Argentina   158699622 119344052 4.576390e+11 3.859560e+11  39355570.6\n",
       "6  Armenia       6193203   5844214 1.073658e+10 9.060944e+09    348989.1\n",
       "7  Australia   204837815 216496002 1.241480e+12 1.119650e+12 -11658186.1\n",
       "8  Austria      51883278  49630217 4.046870e+11 3.828510e+11   2253060.8\n",
       "9  Azerbaijan   21861066  18768195 5.723834e+10 5.045352e+10   3092870.6\n",
       "10 Bangladesh  117772779 100248357 1.385970e+11 1.091950e+11  17524421.6\n",
       "   GDPDelta     DDelta       EFDelta_P GDPDelta_P DDelta_P   DDelta_Rank\n",
       "1    5034005320   5027603158 30.678486 34.251151    3.572665 102        \n",
       "2    1042172611   1042371782 -2.922384  9.062140   11.984524  62        \n",
       "3   20720000000  20705259169 19.340728 13.315767   -6.024961 135        \n",
       "4   16508232970  16502882794 30.386411 20.699148   -9.687263 142        \n",
       "5   71683000000  71643644429 32.976566 18.572843  -14.403724 146        \n",
       "6    1675640140   1675291151  5.971531 18.492997   12.521466  58        \n",
       "7  121830000000 121841658186 -5.384943 10.881079   16.266022  44        \n",
       "8   21836000000  21833746939  4.539696  5.703524    1.163829 115        \n",
       "9    6784817568   6781724697 16.479318 13.447660   -3.031658 131        \n",
       "10  29402000000  29384475578 17.481006 26.926141    9.445135  72        \n",
       "   EFDelta_Rank GDPDelta_Rank Dec_Flag GDP_std   shortName   EFConsPerCap HDI \n",
       "1  149          140           0         28.05540 Afghanistan 0.89         0.48\n",
       "2   34           47           1         26.92949 Albania     2.29         0.76\n",
       "3  128           69           0         52.58095 Algeria     2.38         0.74\n",
       "4  148          101           0         40.04147 Angola      0.98         0.53\n",
       "5  151           93           0         96.64007 Argentina   3.73         0.82\n",
       "6   71           92           0         26.64665 Armenia     2.07         0.74\n",
       "7   26           56           1        219.40449 Australia   8.80         0.94\n",
       "8   68           33           0         88.34678 Austria     6.11         0.89\n",
       "9  116           70           0         33.92971 Azerbaijan  2.30         0.75\n",
       "10 119          119           0         46.67203 Bangladesh  0.75         0.57\n",
       "   Population\n",
       "1   30682500 \n",
       "2    2883281 \n",
       "3   38186136 \n",
       "4   23448200 \n",
       "5   42538304 \n",
       "6    2992192 \n",
       "7   23270464 \n",
       "8    8486962 \n",
       "9    9497496 \n",
       "10 157157392 "
      ]
     },
     "metadata": {},
     "output_type": "display_data"
    }
   ],
   "source": [
    "country_metrics_with_impact  %>% head(10)"
   ]
  },
  {
   "cell_type": "code",
   "execution_count": 7,
   "metadata": {},
   "outputs": [
    {
     "name": "stderr",
     "output_type": "stream",
     "text": [
      "Warning message:\n",
      "\"Removed 6 rows containing missing values (geom_point).\""
     ]
    },
    {
     "data": {},
     "metadata": {},
     "output_type": "display_data"
    },
    {
     "data": {
      "image/png": "[encoded data removed]",
      "text/plain": [
       "plot without title"
      ]
     },
     "metadata": {},
     "output_type": "display_data"
    }
   ],
   "source": [
    "# Bubbble Chart with all variables\n",
    "country_metrics_with_impact %>% \n",
    "  ggplot() + \n",
    "  scale_size(range = c(1, 20)) +\n",
    "  geom_point(aes(HDI, EFConsPerCap, size = EF2013, colour = EFDelta_P)) +\n",
    "  scale_colour_gradient(low = \"white\", high = \"black\") +\n",
    "  geom_hline(aes(yintercept=1.74), \n",
    "             linetype = 3) +\n",
    "  geom_text(aes(y=1.74, x=.45, label=\"Word Biocapacity per Person (1.74)\"),\n",
    "            vjust=-1.2) +\n",
    "  # geom_text(aes(x = HDI, EFConsPerCap, label = Country)) +\n",
    "  geom_vline(aes(xintercept = .7), linetype = 4) +\n",
    "  geom_text(aes(x=.7, y=10, label = \"High human development\"),\n",
    "            hjust = -.1)+\n",
    "  ylab(\"Ecological foodprint per person\")+\n",
    "  ggtitle(\"World Foodprints and human developments\")\n"
   ]
  },
  {
   "cell_type": "code",
   "execution_count": 8,
   "metadata": {},
   "outputs": [
    {
     "data": {},
     "metadata": {},
     "output_type": "display_data"
    },
    {
     "data": {
      "image/png": "[encoded data removed]",
      "text/plain": [
       "plot without title"
      ]
     },
     "metadata": {},
     "output_type": "display_data"
    }
   ],
   "source": [
    "# Highest and lowest Countries in total\n",
    "#################################################################################################################\n",
    "\n",
    "# Countries with highest EF\n",
    "# (Mongolia is interesting - why?)\n",
    "country_metrics_with_impact %>% \n",
    "  select(Country, EFConsPerCap) %>% \n",
    "  arrange(desc(EFConsPerCap)) %>% \n",
    "  head(10) %>% \n",
    "  ggplot() +\n",
    "  geom_bar(aes(reorder(Country, -EFConsPerCap), EFConsPerCap),\n",
    "           stat = \"identity\")"
   ]
  },
  {
   "cell_type": "code",
   "execution_count": 9,
   "metadata": {
    "scrolled": true
   },
   "outputs": [
    {
     "data": {},
     "metadata": {},
     "output_type": "display_data"
    },
    {
     "data": {
      "image/png": "[encoded data removed]",
      "text/plain": [
       "plot without title"
      ]
     },
     "metadata": {},
     "output_type": "display_data"
    }
   ],
   "source": [
    "# Countries with lowest EF\n",
    "country_metrics_with_impact %>% \n",
    "  select(Country, EFConsPerCap) %>% \n",
    "  arrange(EFConsPerCap) %>% \n",
    "  head(10)%>% \n",
    "  ggplot() +\n",
    "  geom_bar(aes(reorder(Country, EFConsPerCap), EFConsPerCap),\n",
    "           stat = \"identity\")"
   ]
  },
  {
   "cell_type": "code",
   "execution_count": 10,
   "metadata": {},
   "outputs": [
    {
     "data": {
      "text/html": [
       "<table>\n",
       "<thead><tr><th scope=col>Country</th><th scope=col>EF2009</th><th scope=col>EF2013</th><th scope=col>EFDelta</th><th scope=col>EFDelta_P</th></tr></thead>\n",
       "<tbody>\n",
       "\t<tr><td>Timor-Leste</td><td>   515762.9</td><td>   839659.4</td><td>  323896.49</td><td>62.79949   </td></tr>\n",
       "\t<tr><td>Djibouti   </td><td>  1562672.3</td><td>  2408004.5</td><td>  845332.20</td><td>54.09530   </td></tr>\n",
       "\t<tr><td>Fiji       </td><td>  1964426.7</td><td>  2927679.8</td><td>  963253.10</td><td>49.03482   </td></tr>\n",
       "\t<tr><td>Oman       </td><td> 16328716.2</td><td> 22137212.7</td><td> 5808496.41</td><td>35.57228   </td></tr>\n",
       "\t<tr><td>Iraq       </td><td> 48653218.6</td><td> 64839766.5</td><td>16186547.84</td><td>33.26922   </td></tr>\n",
       "\t<tr><td>Argentina  </td><td>119344051.8</td><td>158699622.3</td><td>39355570.57</td><td>32.97657   </td></tr>\n",
       "\t<tr><td>Tonga      </td><td>   229266.7</td><td>   304041.1</td><td>   74774.35</td><td>32.61457   </td></tr>\n",
       "\t<tr><td>Afghanistan</td><td> 20868574.0</td><td> 27270736.5</td><td> 6402162.48</td><td>30.67849   </td></tr>\n",
       "\t<tr><td>Angola     </td><td> 17607132.7</td><td> 22957308.4</td><td> 5350175.73</td><td>30.38641   </td></tr>\n",
       "\t<tr><td>Zambia     </td><td> 11542128.4</td><td> 14746246.8</td><td> 3204118.45</td><td>27.76020   </td></tr>\n",
       "</tbody>\n",
       "</table>\n"
      ],
      "text/latex": [
       "\\begin{tabular}{r|lllll}\n",
       " Country & EF2009 & EF2013 & EFDelta & EFDelta\\_P\\\\\n",
       "\\hline\n",
       "\t Timor-Leste &    515762.9 &    839659.4 &   323896.49 & 62.79949   \\\\\n",
       "\t Djibouti    &   1562672.3 &   2408004.5 &   845332.20 & 54.09530   \\\\\n",
       "\t Fiji        &   1964426.7 &   2927679.8 &   963253.10 & 49.03482   \\\\\n",
       "\t Oman        &  16328716.2 &  22137212.7 &  5808496.41 & 35.57228   \\\\\n",
       "\t Iraq        &  48653218.6 &  64839766.5 & 16186547.84 & 33.26922   \\\\\n",
       "\t Argentina   & 119344051.8 & 158699622.3 & 39355570.57 & 32.97657   \\\\\n",
       "\t Tonga       &    229266.7 &    304041.1 &    74774.35 & 32.61457   \\\\\n",
       "\t Afghanistan &  20868574.0 &  27270736.5 &  6402162.48 & 30.67849   \\\\\n",
       "\t Angola      &  17607132.7 &  22957308.4 &  5350175.73 & 30.38641   \\\\\n",
       "\t Zambia      &  11542128.4 &  14746246.8 &  3204118.45 & 27.76020   \\\\\n",
       "\\end{tabular}\n"
      ],
      "text/markdown": [
       "\n",
       "Country | EF2009 | EF2013 | EFDelta | EFDelta_P | \n",
       "|---|---|---|---|---|---|---|---|---|---|\n",
       "| Timor-Leste |    515762.9 |    839659.4 |   323896.49 | 62.79949    | \n",
       "| Djibouti    |   1562672.3 |   2408004.5 |   845332.20 | 54.09530    | \n",
       "| Fiji        |   1964426.7 |   2927679.8 |   963253.10 | 49.03482    | \n",
       "| Oman        |  16328716.2 |  22137212.7 |  5808496.41 | 35.57228    | \n",
       "| Iraq        |  48653218.6 |  64839766.5 | 16186547.84 | 33.26922    | \n",
       "| Argentina   | 119344051.8 | 158699622.3 | 39355570.57 | 32.97657    | \n",
       "| Tonga       |    229266.7 |    304041.1 |    74774.35 | 32.61457    | \n",
       "| Afghanistan |  20868574.0 |  27270736.5 |  6402162.48 | 30.67849    | \n",
       "| Angola      |  17607132.7 |  22957308.4 |  5350175.73 | 30.38641    | \n",
       "| Zambia      |  11542128.4 |  14746246.8 |  3204118.45 | 27.76020    | \n",
       "\n",
       "\n"
      ],
      "text/plain": [
       "   Country     EF2009      EF2013      EFDelta     EFDelta_P\n",
       "1  Timor-Leste    515762.9    839659.4   323896.49 62.79949 \n",
       "2  Djibouti      1562672.3   2408004.5   845332.20 54.09530 \n",
       "3  Fiji          1964426.7   2927679.8   963253.10 49.03482 \n",
       "4  Oman         16328716.2  22137212.7  5808496.41 35.57228 \n",
       "5  Iraq         48653218.6  64839766.5 16186547.84 33.26922 \n",
       "6  Argentina   119344051.8 158699622.3 39355570.57 32.97657 \n",
       "7  Tonga          229266.7    304041.1    74774.35 32.61457 \n",
       "8  Afghanistan  20868574.0  27270736.5  6402162.48 30.67849 \n",
       "9  Angola       17607132.7  22957308.4  5350175.73 30.38641 \n",
       "10 Zambia       11542128.4  14746246.8  3204118.45 27.76020 "
      ]
     },
     "metadata": {},
     "output_type": "display_data"
    }
   ],
   "source": [
    "# Highest and lowest Tendencies\n",
    "#################################################################################################################\n",
    "\n",
    "# Worst tendencies\n",
    "country_metrics_with_impact  %>% \n",
    "    arrange(desc(EFDelta_Rank)) %>% \n",
    "    select(Country, EF2009, EF2013, EFDelta, EFDelta_P) %>% \n",
    "    head(10)"
   ]
  },
  {
   "cell_type": "code",
   "execution_count": 11,
   "metadata": {},
   "outputs": [
    {
     "data": {},
     "metadata": {},
     "output_type": "display_data"
    },
    {
     "data": {
      "image/png": "[encoded data removed]",
      "text/plain": [
       "plot without title"
      ]
     },
     "metadata": {},
     "output_type": "display_data"
    }
   ],
   "source": [
    "# in total numbers \n",
    "country_metrics_with_impact %>% \n",
    "  select(Country, EFDelta, EF2009, EF2013) %>% \n",
    "  arrange(desc(EFDelta)) %>% \n",
    "  head(10) %>% \n",
    "  ggplot() +\n",
    "  geom_bar(aes(reorder(Country, -EFDelta), EFDelta),\n",
    "           stat = \"identity\")"
   ]
  },
  {
   "cell_type": "code",
   "execution_count": 12,
   "metadata": {},
   "outputs": [
    {
     "data": {},
     "metadata": {},
     "output_type": "display_data"
    },
    {
     "data": {
      "image/png": "[encoded data removed]",
      "text/plain": [
       "plot without title"
      ]
     },
     "metadata": {},
     "output_type": "display_data"
    }
   ],
   "source": [
    "country_metrics_with_impact  %>% \n",
    "    arrange(desc(EFDelta_Rank)) %>% \n",
    "    select(Country, EF2009, EF2013, EFDelta, EFDelta_P) %>% \n",
    "    head(10) %>% \n",
    "    ggplot() +\n",
    "      geom_bar(aes(reorder(Country, -EFDelta_P), EFDelta_P),\n",
    "           stat = \"identity\")+\n",
    "        ggtitle(\"Countries with worst tendencies in percentages\")"
   ]
  },
  {
   "cell_type": "code",
   "execution_count": 13,
   "metadata": {},
   "outputs": [
    {
     "data": {
      "text/html": [
       "<table>\n",
       "<thead><tr><th scope=col>Country</th><th scope=col>EF2009</th><th scope=col>EF2013</th><th scope=col>EFDelta</th><th scope=col>EFDelta_P</th></tr></thead>\n",
       "<tbody>\n",
       "\t<tr><td>Cyprus        </td><td>  5741441.1   </td><td>  3774867.6   </td><td> -1966573.42  </td><td>-34.25226     </td></tr>\n",
       "\t<tr><td>Greece        </td><td> 63928319.1   </td><td> 46510880.1   </td><td>-17417438.99  </td><td>-27.24526     </td></tr>\n",
       "\t<tr><td>Barbados      </td><td>  1207194.6   </td><td>   949884.1   </td><td>  -257310.50  </td><td>-21.31475     </td></tr>\n",
       "\t<tr><td>Dominica      </td><td>   203575.8   </td><td>   161736.1   </td><td>   -41839.73  </td><td>-20.55241     </td></tr>\n",
       "\t<tr><td>Portugal      </td><td> 47930963.6   </td><td> 40486481.9   </td><td> -7444481.75  </td><td>-15.53168     </td></tr>\n",
       "\t<tr><td>United Kingdom</td><td>375214593.9   </td><td>322976417.8   </td><td>-52238176.18  </td><td>-13.92221     </td></tr>\n",
       "\t<tr><td>Spain         </td><td>217226969.0   </td><td>187128933.6   </td><td>-30098035.37  </td><td>-13.85557     </td></tr>\n",
       "\t<tr><td>Gambia        </td><td>  1975427.5   </td><td>  1715254.4   </td><td>  -260173.14  </td><td>-13.17047     </td></tr>\n",
       "\t<tr><td>Bulgaria      </td><td> 26116832.6   </td><td> 22680547.3   </td><td> -3436285.30  </td><td>-13.15736     </td></tr>\n",
       "\t<tr><td>Macedonia TFYR</td><td>  7249968.2   </td><td>  6341191.9   </td><td>  -908776.38  </td><td>-12.53490     </td></tr>\n",
       "</tbody>\n",
       "</table>\n"
      ],
      "text/latex": [
       "\\begin{tabular}{r|lllll}\n",
       " Country & EF2009 & EF2013 & EFDelta & EFDelta\\_P\\\\\n",
       "\\hline\n",
       "\t Cyprus         &   5741441.1    &   3774867.6    &  -1966573.42   & -34.25226     \\\\\n",
       "\t Greece         &  63928319.1    &  46510880.1    & -17417438.99   & -27.24526     \\\\\n",
       "\t Barbados       &   1207194.6    &    949884.1    &   -257310.50   & -21.31475     \\\\\n",
       "\t Dominica       &    203575.8    &    161736.1    &    -41839.73   & -20.55241     \\\\\n",
       "\t Portugal       &  47930963.6    &  40486481.9    &  -7444481.75   & -15.53168     \\\\\n",
       "\t United Kingdom & 375214593.9    & 322976417.8    & -52238176.18   & -13.92221     \\\\\n",
       "\t Spain          & 217226969.0    & 187128933.6    & -30098035.37   & -13.85557     \\\\\n",
       "\t Gambia         &   1975427.5    &   1715254.4    &   -260173.14   & -13.17047     \\\\\n",
       "\t Bulgaria       &  26116832.6    &  22680547.3    &  -3436285.30   & -13.15736     \\\\\n",
       "\t Macedonia TFYR &   7249968.2    &   6341191.9    &   -908776.38   & -12.53490     \\\\\n",
       "\\end{tabular}\n"
      ],
      "text/markdown": [
       "\n",
       "Country | EF2009 | EF2013 | EFDelta | EFDelta_P | \n",
       "|---|---|---|---|---|---|---|---|---|---|\n",
       "| Cyprus         |   5741441.1    |   3774867.6    |  -1966573.42   | -34.25226      | \n",
       "| Greece         |  63928319.1    |  46510880.1    | -17417438.99   | -27.24526      | \n",
       "| Barbados       |   1207194.6    |    949884.1    |   -257310.50   | -21.31475      | \n",
       "| Dominica       |    203575.8    |    161736.1    |    -41839.73   | -20.55241      | \n",
       "| Portugal       |  47930963.6    |  40486481.9    |  -7444481.75   | -15.53168      | \n",
       "| United Kingdom | 375214593.9    | 322976417.8    | -52238176.18   | -13.92221      | \n",
       "| Spain          | 217226969.0    | 187128933.6    | -30098035.37   | -13.85557      | \n",
       "| Gambia         |   1975427.5    |   1715254.4    |   -260173.14   | -13.17047      | \n",
       "| Bulgaria       |  26116832.6    |  22680547.3    |  -3436285.30   | -13.15736      | \n",
       "| Macedonia TFYR |   7249968.2    |   6341191.9    |   -908776.38   | -12.53490      | \n",
       "\n",
       "\n"
      ],
      "text/plain": [
       "   Country        EF2009      EF2013      EFDelta      EFDelta_P\n",
       "1  Cyprus           5741441.1   3774867.6  -1966573.42 -34.25226\n",
       "2  Greece          63928319.1  46510880.1 -17417438.99 -27.24526\n",
       "3  Barbados         1207194.6    949884.1   -257310.50 -21.31475\n",
       "4  Dominica          203575.8    161736.1    -41839.73 -20.55241\n",
       "5  Portugal        47930963.6  40486481.9  -7444481.75 -15.53168\n",
       "6  United Kingdom 375214593.9 322976417.8 -52238176.18 -13.92221\n",
       "7  Spain          217226969.0 187128933.6 -30098035.37 -13.85557\n",
       "8  Gambia           1975427.5   1715254.4   -260173.14 -13.17047\n",
       "9  Bulgaria        26116832.6  22680547.3  -3436285.30 -13.15736\n",
       "10 Macedonia TFYR   7249968.2   6341191.9   -908776.38 -12.53490"
      ]
     },
     "metadata": {},
     "output_type": "display_data"
    }
   ],
   "source": [
    "# Best tendencies\n",
    "country_metrics_with_impact  %>% \n",
    "    arrange(EFDelta_Rank) %>% \n",
    "    select(Country, EF2009, EF2013, EFDelta, EFDelta_P) %>% \n",
    "    head(10)"
   ]
  },
  {
   "cell_type": "code",
   "execution_count": 14,
   "metadata": {},
   "outputs": [
    {
     "data": {},
     "metadata": {},
     "output_type": "display_data"
    },
    {
     "data": {
      "image/png": "[encoded data removed]",
      "text/plain": [
       "plot without title"
      ]
     },
     "metadata": {},
     "output_type": "display_data"
    }
   ],
   "source": [
    "# Countries with best tendency\n",
    "country_metrics_with_impact %>% \n",
    "  select(Country, EFDelta, EF2009, EF2013) %>% \n",
    "  arrange(EFDelta) %>% \n",
    "  head(10)%>% \n",
    "  ggplot() +\n",
    "  geom_bar(aes(reorder(Country, EFDelta), EFDelta),\n",
    "           stat = \"identity\")"
   ]
  },
  {
   "cell_type": "code",
   "execution_count": 15,
   "metadata": {},
   "outputs": [
    {
     "data": {},
     "metadata": {},
     "output_type": "display_data"
    },
    {
     "data": {
      "image/png": "[encoded data removed]",
      "text/plain": [
       "plot without title"
      ]
     },
     "metadata": {},
     "output_type": "display_data"
    }
   ],
   "source": [
    "# Best tendencies in percentages\n",
    "country_metrics_with_impact  %>% \n",
    "    arrange(EFDelta_Rank) %>% \n",
    "    select(Country, EF2009, EF2013, EFDelta, EFDelta_P) %>% \n",
    "    head(10) %>% \n",
    "    ggplot() +\n",
    "      geom_bar(aes(reorder(Country, EFDelta_P), EFDelta_P),\n",
    "           stat = \"identity\")+\n",
    "        ggtitle(\"Countries with best tendencies in percentages\")"
   ]
  },
  {
   "cell_type": "code",
   "execution_count": 16,
   "metadata": {},
   "outputs": [
    {
     "name": "stderr",
     "output_type": "stream",
     "text": [
      "Parsed with column specification:\n",
      "cols(\n",
      "  country = col_character(),\n",
      "  year = col_integer(),\n",
      "  country_code = col_integer(),\n",
      "  record = col_character(),\n",
      "  crop_land = col_double(),\n",
      "  grazing_land = col_double(),\n",
      "  forest_land = col_double(),\n",
      "  fishing_ground = col_double(),\n",
      "  built_up_land = col_double(),\n",
      "  carbon = col_double(),\n",
      "  total = col_double(),\n",
      "  QScore = col_integer()\n",
      ")\n",
      "Warning message:\n",
      "\"127872 parsing failures.\n",
      "  row            col expected actual\n",
      "80785 crop_land      a double   NULL\n",
      "80785 grazing_land   a double   NULL\n",
      "80785 forest_land    a double   NULL\n",
      "80785 fishing_ground a double   NULL\n",
      "80785 built_up_land  a double   NULL\n",
      "..... .............. ........ ......\n",
      "See problems(...) for more details.\n",
      "\""
     ]
    },
    {
     "data": {
      "text/html": [
       "<table>\n",
       "<thead><tr><th scope=col>country</th><th scope=col>year</th><th scope=col>country_code</th><th scope=col>record</th><th scope=col>crop_land</th><th scope=col>grazing_land</th><th scope=col>forest_land</th><th scope=col>fishing_ground</th><th scope=col>built_up_land</th><th scope=col>carbon</th><th scope=col>total</th><th scope=col>QScore</th></tr></thead>\n",
       "<tbody>\n",
       "\t<tr><td>Armenia        </td><td>1992           </td><td>1              </td><td>AreaPerCap     </td><td>1.400203e-01   </td><td>1.991593e-01   </td><td>9.699957e-02   </td><td>3.681693e-02   </td><td>2.925786e-02   </td><td>0.000000e+00   </td><td>5.022540e-01   </td><td>5              </td></tr>\n",
       "\t<tr><td>Armenia        </td><td>1992           </td><td>1              </td><td>AreaTotHA      </td><td>4.830000e+05   </td><td>6.870000e+05   </td><td>3.346000e+05   </td><td>1.270000e+05   </td><td>1.009250e+05   </td><td>0.000000e+00   </td><td>1.732525e+06   </td><td>5              </td></tr>\n",
       "\t<tr><td>Armenia        </td><td>1992           </td><td>1              </td><td>BiocapPerCap   </td><td>2.765314e-01   </td><td>1.348916e-01   </td><td>8.383927e-02   </td><td>1.370460e-02   </td><td>5.778247e-02   </td><td>0.000000e+00   </td><td>5.667493e-01   </td><td>5              </td></tr>\n",
       "\t<tr><td>Armenia        </td><td>1992           </td><td>1              </td><td>BiocapTotGHA   </td><td>9.538950e+05   </td><td>4.653085e+05   </td><td>2.892036e+05   </td><td>4.727402e+04   </td><td>1.993206e+05   </td><td>0.000000e+00   </td><td>1.955002e+06   </td><td>5              </td></tr>\n",
       "\t<tr><td>Armenia        </td><td>1992           </td><td>1              </td><td>EFConsPerCap   </td><td>4.774125e-01   </td><td>1.758798e-01   </td><td>1.254684e-06   </td><td>4.113147e-03   </td><td>5.778247e-02   </td><td>1.097617e+00   </td><td>1.812806e+00   </td><td>5              </td></tr>\n",
       "\t<tr><td>Armenia        </td><td>1992           </td><td>1              </td><td>EFConsTotGHA   </td><td>1.646834e+06   </td><td>6.066974e+05   </td><td>4.328034e+00   </td><td>1.418830e+04   </td><td>1.993206e+05   </td><td>3.786229e+06   </td><td>6.253274e+06   </td><td>5              </td></tr>\n",
       "\t<tr><td>Armenia        </td><td>1992           </td><td>1              </td><td>EFExportsPerCap</td><td>1.535785e-03   </td><td>2.070978e-03   </td><td>0.000000e+00   </td><td>4.485983e-04   </td><td>0.000000e+00   </td><td>4.744830e-02   </td><td>5.150366e-02   </td><td>5              </td></tr>\n",
       "\t<tr><td>Armenia        </td><td>1992           </td><td>1              </td><td>EFExportsTotGHA</td><td>5.297689e+03   </td><td>7.143839e+03   </td><td>0.000000e+00   </td><td>1.547440e+03   </td><td>0.000000e+00   </td><td>1.636729e+05   </td><td>1.776619e+05   </td><td>5              </td></tr>\n",
       "\t<tr><td>Armenia        </td><td>1992           </td><td>1              </td><td>EFImportsPerCap</td><td>2.024169e-01   </td><td>5.634172e-02   </td><td>1.254684e-06   </td><td>3.299335e-03   </td><td>0.000000e+00   </td><td>8.822890e-02   </td><td>3.502881e-01   </td><td>5              </td></tr>\n",
       "\t<tr><td>Armenia        </td><td>1992           </td><td>1              </td><td>EFImportsTotGHA</td><td>6.982370e+05   </td><td>1.943508e+05   </td><td>4.328034e+00   </td><td>1.138106e+04   </td><td>0.000000e+00   </td><td>3.043456e+05   </td><td>1.208319e+06   </td><td>5              </td></tr>\n",
       "</tbody>\n",
       "</table>\n"
      ],
      "text/latex": [
       "\\begin{tabular}{r|llllllllllll}\n",
       " country & year & country\\_code & record & crop\\_land & grazing\\_land & forest\\_land & fishing\\_ground & built\\_up\\_land & carbon & total & QScore\\\\\n",
       "\\hline\n",
       "\t Armenia         & 1992            & 1               & AreaPerCap      & 1.400203e-01    & 1.991593e-01    & 9.699957e-02    & 3.681693e-02    & 2.925786e-02    & 0.000000e+00    & 5.022540e-01    & 5              \\\\\n",
       "\t Armenia         & 1992            & 1               & AreaTotHA       & 4.830000e+05    & 6.870000e+05    & 3.346000e+05    & 1.270000e+05    & 1.009250e+05    & 0.000000e+00    & 1.732525e+06    & 5              \\\\\n",
       "\t Armenia         & 1992            & 1               & BiocapPerCap    & 2.765314e-01    & 1.348916e-01    & 8.383927e-02    & 1.370460e-02    & 5.778247e-02    & 0.000000e+00    & 5.667493e-01    & 5              \\\\\n",
       "\t Armenia         & 1992            & 1               & BiocapTotGHA    & 9.538950e+05    & 4.653085e+05    & 2.892036e+05    & 4.727402e+04    & 1.993206e+05    & 0.000000e+00    & 1.955002e+06    & 5              \\\\\n",
       "\t Armenia         & 1992            & 1               & EFConsPerCap    & 4.774125e-01    & 1.758798e-01    & 1.254684e-06    & 4.113147e-03    & 5.778247e-02    & 1.097617e+00    & 1.812806e+00    & 5              \\\\\n",
       "\t Armenia         & 1992            & 1               & EFConsTotGHA    & 1.646834e+06    & 6.066974e+05    & 4.328034e+00    & 1.418830e+04    & 1.993206e+05    & 3.786229e+06    & 6.253274e+06    & 5              \\\\\n",
       "\t Armenia         & 1992            & 1               & EFExportsPerCap & 1.535785e-03    & 2.070978e-03    & 0.000000e+00    & 4.485983e-04    & 0.000000e+00    & 4.744830e-02    & 5.150366e-02    & 5              \\\\\n",
       "\t Armenia         & 1992            & 1               & EFExportsTotGHA & 5.297689e+03    & 7.143839e+03    & 0.000000e+00    & 1.547440e+03    & 0.000000e+00    & 1.636729e+05    & 1.776619e+05    & 5              \\\\\n",
       "\t Armenia         & 1992            & 1               & EFImportsPerCap & 2.024169e-01    & 5.634172e-02    & 1.254684e-06    & 3.299335e-03    & 0.000000e+00    & 8.822890e-02    & 3.502881e-01    & 5              \\\\\n",
       "\t Armenia         & 1992            & 1               & EFImportsTotGHA & 6.982370e+05    & 1.943508e+05    & 4.328034e+00    & 1.138106e+04    & 0.000000e+00    & 3.043456e+05    & 1.208319e+06    & 5              \\\\\n",
       "\\end{tabular}\n"
      ],
      "text/markdown": [
       "\n",
       "country | year | country_code | record | crop_land | grazing_land | forest_land | fishing_ground | built_up_land | carbon | total | QScore | \n",
       "|---|---|---|---|---|---|---|---|---|---|\n",
       "| Armenia         | 1992            | 1               | AreaPerCap      | 1.400203e-01    | 1.991593e-01    | 9.699957e-02    | 3.681693e-02    | 2.925786e-02    | 0.000000e+00    | 5.022540e-01    | 5               | \n",
       "| Armenia         | 1992            | 1               | AreaTotHA       | 4.830000e+05    | 6.870000e+05    | 3.346000e+05    | 1.270000e+05    | 1.009250e+05    | 0.000000e+00    | 1.732525e+06    | 5               | \n",
       "| Armenia         | 1992            | 1               | BiocapPerCap    | 2.765314e-01    | 1.348916e-01    | 8.383927e-02    | 1.370460e-02    | 5.778247e-02    | 0.000000e+00    | 5.667493e-01    | 5               | \n",
       "| Armenia         | 1992            | 1               | BiocapTotGHA    | 9.538950e+05    | 4.653085e+05    | 2.892036e+05    | 4.727402e+04    | 1.993206e+05    | 0.000000e+00    | 1.955002e+06    | 5               | \n",
       "| Armenia         | 1992            | 1               | EFConsPerCap    | 4.774125e-01    | 1.758798e-01    | 1.254684e-06    | 4.113147e-03    | 5.778247e-02    | 1.097617e+00    | 1.812806e+00    | 5               | \n",
       "| Armenia         | 1992            | 1               | EFConsTotGHA    | 1.646834e+06    | 6.066974e+05    | 4.328034e+00    | 1.418830e+04    | 1.993206e+05    | 3.786229e+06    | 6.253274e+06    | 5               | \n",
       "| Armenia         | 1992            | 1               | EFExportsPerCap | 1.535785e-03    | 2.070978e-03    | 0.000000e+00    | 4.485983e-04    | 0.000000e+00    | 4.744830e-02    | 5.150366e-02    | 5               | \n",
       "| Armenia         | 1992            | 1               | EFExportsTotGHA | 5.297689e+03    | 7.143839e+03    | 0.000000e+00    | 1.547440e+03    | 0.000000e+00    | 1.636729e+05    | 1.776619e+05    | 5               | \n",
       "| Armenia         | 1992            | 1               | EFImportsPerCap | 2.024169e-01    | 5.634172e-02    | 1.254684e-06    | 3.299335e-03    | 0.000000e+00    | 8.822890e-02    | 3.502881e-01    | 5               | \n",
       "| Armenia         | 1992            | 1               | EFImportsTotGHA | 6.982370e+05    | 1.943508e+05    | 4.328034e+00    | 1.138106e+04    | 0.000000e+00    | 3.043456e+05    | 1.208319e+06    | 5               | \n",
       "\n",
       "\n"
      ],
      "text/plain": [
       "   country year country_code record          crop_land    grazing_land\n",
       "1  Armenia 1992 1            AreaPerCap      1.400203e-01 1.991593e-01\n",
       "2  Armenia 1992 1            AreaTotHA       4.830000e+05 6.870000e+05\n",
       "3  Armenia 1992 1            BiocapPerCap    2.765314e-01 1.348916e-01\n",
       "4  Armenia 1992 1            BiocapTotGHA    9.538950e+05 4.653085e+05\n",
       "5  Armenia 1992 1            EFConsPerCap    4.774125e-01 1.758798e-01\n",
       "6  Armenia 1992 1            EFConsTotGHA    1.646834e+06 6.066974e+05\n",
       "7  Armenia 1992 1            EFExportsPerCap 1.535785e-03 2.070978e-03\n",
       "8  Armenia 1992 1            EFExportsTotGHA 5.297689e+03 7.143839e+03\n",
       "9  Armenia 1992 1            EFImportsPerCap 2.024169e-01 5.634172e-02\n",
       "10 Armenia 1992 1            EFImportsTotGHA 6.982370e+05 1.943508e+05\n",
       "   forest_land  fishing_ground built_up_land carbon       total        QScore\n",
       "1  9.699957e-02 3.681693e-02   2.925786e-02  0.000000e+00 5.022540e-01 5     \n",
       "2  3.346000e+05 1.270000e+05   1.009250e+05  0.000000e+00 1.732525e+06 5     \n",
       "3  8.383927e-02 1.370460e-02   5.778247e-02  0.000000e+00 5.667493e-01 5     \n",
       "4  2.892036e+05 4.727402e+04   1.993206e+05  0.000000e+00 1.955002e+06 5     \n",
       "5  1.254684e-06 4.113147e-03   5.778247e-02  1.097617e+00 1.812806e+00 5     \n",
       "6  4.328034e+00 1.418830e+04   1.993206e+05  3.786229e+06 6.253274e+06 5     \n",
       "7  0.000000e+00 4.485983e-04   0.000000e+00  4.744830e-02 5.150366e-02 5     \n",
       "8  0.000000e+00 1.547440e+03   0.000000e+00  1.636729e+05 1.776619e+05 5     \n",
       "9  1.254684e-06 3.299335e-03   0.000000e+00  8.822890e-02 3.502881e-01 5     \n",
       "10 4.328034e+00 1.138106e+04   0.000000e+00  3.043456e+05 1.208319e+06 5     "
      ]
     },
     "metadata": {},
     "output_type": "display_data"
    }
   ],
   "source": [
    "# Plot some history for specific Countries of interest\n",
    "# (better search for interessting patterns)\n",
    "country_history <- read_csv(\n",
    "   paste0(\"C:/Source/mas-data-science/CAS Data Visualization/Project/\",\n",
    "          \"NFA 2017 Edition.csv\"))\n",
    "\n",
    "country_history  %>% head(10)\n"
   ]
  },
  {
   "cell_type": "code",
   "execution_count": 17,
   "metadata": {},
   "outputs": [
    {
     "data": {},
     "metadata": {},
     "output_type": "display_data"
    },
    {
     "data": {
      "image/png": "[encoded data removed]",
      "text/plain": [
       "plot without title"
      ]
     },
     "metadata": {},
     "output_type": "display_data"
    }
   ],
   "source": [
    "\n",
    "country_history %>% \n",
    "  filter(record == \"EFConsPerCap\") %>%\n",
    "  arrange(desc(total)) %>% \n",
    "  select(country) %>% \n",
    "  unique() -> sorted_countries\n",
    "\n",
    "\n",
    "country_of_interest <- c(\n",
    "  \"Luxembourg\",       # highest EF per capita\n",
    "  \"Haiti\",            # lowest EF per capita\n",
    "  \"Fiji\",             # worst tendency\n",
    "  \"Cyprus\",            # best tendency\n",
    "  \"Switzerland\"  \n",
    "  )\n",
    "\n",
    "country_history %>% \n",
    "  filter(country %in% country_of_interest) %>% \n",
    "  select(country, total, record, year) %>% \n",
    "  arrange(desc(total)) %>% \n",
    "  filter(record == \"EFConsPerCap\") %>%\n",
    "  ggplot() +\n",
    "  geom_line(aes(year, total)) +\n",
    "  facet_grid(country ~ .)"
   ]
  },
  {
   "cell_type": "code",
   "execution_count": 18,
   "metadata": {},
   "outputs": [
    {
     "data": {
      "text/html": [
       "<table>\n",
       "<thead><tr><th scope=col>Country</th><th scope=col>HDI</th><th scope=col>Population</th><th scope=col>GDP2013</th></tr></thead>\n",
       "<tbody>\n",
       "\t<tr><td>Cyprus      </td><td>0.85        </td><td> 1141652    </td><td> 23356225780</td></tr>\n",
       "\t<tr><td>Fiji        </td><td>0.73        </td><td>  880487    </td><td>  3486033014</td></tr>\n",
       "\t<tr><td>Haiti       </td><td>0.49        </td><td>10431249    </td><td>  7494399817</td></tr>\n",
       "\t<tr><td>Luxembourg  </td><td>0.89        </td><td>  544885    </td><td> 55554172185</td></tr>\n",
       "\t<tr><td>Switzerland </td><td>0.94        </td><td> 8118719    </td><td>608548000000</td></tr>\n",
       "</tbody>\n",
       "</table>\n"
      ],
      "text/latex": [
       "\\begin{tabular}{r|llll}\n",
       " Country & HDI & Population & GDP2013\\\\\n",
       "\\hline\n",
       "\t Cyprus       & 0.85         &  1141652     &  23356225780\\\\\n",
       "\t Fiji         & 0.73         &   880487     &   3486033014\\\\\n",
       "\t Haiti        & 0.49         & 10431249     &   7494399817\\\\\n",
       "\t Luxembourg   & 0.89         &   544885     &  55554172185\\\\\n",
       "\t Switzerland  & 0.94         &  8118719     & 608548000000\\\\\n",
       "\\end{tabular}\n"
      ],
      "text/markdown": [
       "\n",
       "Country | HDI | Population | GDP2013 | \n",
       "|---|---|---|---|---|\n",
       "| Cyprus       | 0.85         |  1141652     |  23356225780 | \n",
       "| Fiji         | 0.73         |   880487     |   3486033014 | \n",
       "| Haiti        | 0.49         | 10431249     |   7494399817 | \n",
       "| Luxembourg   | 0.89         |   544885     |  55554172185 | \n",
       "| Switzerland  | 0.94         |  8118719     | 608548000000 | \n",
       "\n",
       "\n"
      ],
      "text/plain": [
       "  Country     HDI  Population GDP2013     \n",
       "1 Cyprus      0.85  1141652    23356225780\n",
       "2 Fiji        0.73   880487     3486033014\n",
       "3 Haiti       0.49 10431249     7494399817\n",
       "4 Luxembourg  0.89   544885    55554172185\n",
       "5 Switzerland 0.94  8118719   608548000000"
      ]
     },
     "metadata": {},
     "output_type": "display_data"
    }
   ],
   "source": [
    "# plot some data of the interesting countries\n",
    "country_metrics_with_impact  %>%\n",
    "  filter(Country %in% country_of_interest) %>% \n",
    "  select(Country, HDI, Population, GDP2013)"
   ]
  },
  {
   "cell_type": "code",
   "execution_count": 19,
   "metadata": {},
   "outputs": [
    {
     "name": "stderr",
     "output_type": "stream",
     "text": [
      "Parsed with column specification:\n",
      "cols(\n",
      "  country = col_character(),\n",
      "  year = col_integer(),\n",
      "  country_code = col_integer(),\n",
      "  record = col_character(),\n",
      "  crop_land = col_double(),\n",
      "  grazing_land = col_double(),\n",
      "  forest_land = col_double(),\n",
      "  fishing_ground = col_double(),\n",
      "  built_up_land = col_double(),\n",
      "  carbon = col_double(),\n",
      "  total = col_double(),\n",
      "  QScore = col_integer()\n",
      ")\n",
      "Warning message:\n",
      "\"127872 parsing failures.\n",
      "  row            col expected actual\n",
      "80785 crop_land      a double   NULL\n",
      "80785 grazing_land   a double   NULL\n",
      "80785 forest_land    a double   NULL\n",
      "80785 fishing_ground a double   NULL\n",
      "80785 built_up_land  a double   NULL\n",
      "..... .............. ........ ......\n",
      "See problems(...) for more details.\n",
      "\""
     ]
    }
   ],
   "source": [
    "nfa_2017_edition <- read_csv(\n",
    "   paste0(\"C:/Source/mas-data-science/CAS Data Visualization/Project/\",\n",
    "          \"NFA 2017 Edition.csv\"))"
   ]
  },
  {
   "cell_type": "code",
   "execution_count": 20,
   "metadata": {},
   "outputs": [
    {
     "data": {},
     "metadata": {},
     "output_type": "display_data"
    },
    {
     "data": {
      "image/png": "[encoded data removed]",
      "text/plain": [
       "plot without title"
      ]
     },
     "metadata": {},
     "output_type": "display_data"
    }
   ],
   "source": [
    "nfa_2017_edition  %>% \n",
    "    filter(country %in% country_of_interest) %>% \n",
    "    filter(record == \"BiocapPerCap\") %>% \n",
    "    ggplot() +\n",
    "        geom_line(aes(year,total, col = country)) +\n",
    "        ggtitle(\"Biocapacity of interesting countries\")"
   ]
  },
  {
   "cell_type": "code",
   "execution_count": 21,
   "metadata": {},
   "outputs": [
    {
     "data": {},
     "metadata": {},
     "output_type": "display_data"
    },
    {
     "data": {
      "image/png": "[encoded data removed]",
      "text/plain": [
       "plot without title"
      ]
     },
     "metadata": {},
     "output_type": "display_data"
    }
   ],
   "source": [
    "nfa_2017_edition  %>% \n",
    "    filter(country %in% country_of_interest) %>% \n",
    "    filter(record == \"EFConsPerCap\") %>% \n",
    "    ggplot() +\n",
    "        geom_line(aes(year,total, col = country)) +\n",
    "        ggtitle(\"Footprint of interesting countries\")"
   ]
  },
  {
   "cell_type": "code",
   "execution_count": 22,
   "metadata": {},
   "outputs": [
    {
     "data": {},
     "metadata": {},
     "output_type": "display_data"
    },
    {
     "data": {
      "image/png": "[encoded data removed]",
      "text/plain": [
       "plot without title"
      ]
     },
     "metadata": {},
     "output_type": "display_data"
    }
   ],
   "source": [
    "nfa_2017_edition  %>% \n",
    "    filter(country %in% country_of_interest) %>% \n",
    "    filter(record == \"EFConsPerCap\" | record == \"BiocapPerCap\") %>% \n",
    "    ggplot() +\n",
    "        geom_line(aes(year,total, col = record)) +\n",
    "        facet_grid(country~.)+\n",
    "        ggtitle(\"Capacity vs Footprint\")"
   ]
  },
  {
   "cell_type": "code",
   "execution_count": 27,
   "metadata": {},
   "outputs": [
    {
     "data": {
      "text/html": [
       "<table>\n",
       "<thead><tr><th scope=col>country</th><th scope=col>year</th><th scope=col>country_code</th><th scope=col>record</th><th scope=col>crop_land</th><th scope=col>grazing_land</th><th scope=col>forest_land</th><th scope=col>fishing_ground</th><th scope=col>built_up_land</th><th scope=col>carbon</th><th scope=col>total</th><th scope=col>QScore</th></tr></thead>\n",
       "<tbody>\n",
       "\t<tr><td>World       </td><td>2013        </td><td>5001        </td><td>BiocapPerCap</td><td>0.5539028   </td><td>0.2131634   </td><td>0.7218349   </td><td>0.1523134   </td><td>0.06408095  </td><td>0           </td><td>1.705295    </td><td>6           </td></tr>\n",
       "</tbody>\n",
       "</table>\n"
      ],
      "text/latex": [
       "\\begin{tabular}{r|llllllllllll}\n",
       " country & year & country\\_code & record & crop\\_land & grazing\\_land & forest\\_land & fishing\\_ground & built\\_up\\_land & carbon & total & QScore\\\\\n",
       "\\hline\n",
       "\t World        & 2013         & 5001         & BiocapPerCap & 0.5539028    & 0.2131634    & 0.7218349    & 0.1523134    & 0.06408095   & 0            & 1.705295     & 6           \\\\\n",
       "\\end{tabular}\n"
      ],
      "text/markdown": [
       "\n",
       "country | year | country_code | record | crop_land | grazing_land | forest_land | fishing_ground | built_up_land | carbon | total | QScore | \n",
       "|---|\n",
       "| World        | 2013         | 5001         | BiocapPerCap | 0.5539028    | 0.2131634    | 0.7218349    | 0.1523134    | 0.06408095   | 0            | 1.705295     | 6            | \n",
       "\n",
       "\n"
      ],
      "text/plain": [
       "  country year country_code record       crop_land grazing_land forest_land\n",
       "1 World   2013 5001         BiocapPerCap 0.5539028 0.2131634    0.7218349  \n",
       "  fishing_ground built_up_land carbon total    QScore\n",
       "1 0.1523134      0.06408095    0      1.705295 6     "
      ]
     },
     "metadata": {},
     "output_type": "display_data"
    }
   ],
   "source": [
    "# Current world Biocapacity\n",
    "nfa_2017_edition  %>% \n",
    "    filter(country == \"World\") %>% \n",
    "    filter(record == \"BiocapPerCap\") %>% \n",
    "    arrange(desc(year)) %>% \n",
    "    head(1)"
   ]
  },
  {
   "cell_type": "code",
   "execution_count": 31,
   "metadata": {},
   "outputs": [
    {
     "data": {
      "text/html": [
       "<table>\n",
       "<thead><tr><th scope=col>country</th><th scope=col>year</th><th scope=col>country_code</th><th scope=col>record</th><th scope=col>crop_land</th><th scope=col>grazing_land</th><th scope=col>forest_land</th><th scope=col>fishing_ground</th><th scope=col>built_up_land</th><th scope=col>carbon</th><th scope=col>total</th><th scope=col>QScore</th></tr></thead>\n",
       "<tbody>\n",
       "\t<tr><td>World       </td><td>2013        </td><td>5001        </td><td>EFConsPerCap</td><td>0.5539028   </td><td>0.1582954   </td><td>0.2779329   </td><td>0.0907955   </td><td>0.06408095  </td><td>1.723774    </td><td>2.868783    </td><td>6           </td></tr>\n",
       "</tbody>\n",
       "</table>\n"
      ],
      "text/latex": [
       "\\begin{tabular}{r|llllllllllll}\n",
       " country & year & country\\_code & record & crop\\_land & grazing\\_land & forest\\_land & fishing\\_ground & built\\_up\\_land & carbon & total & QScore\\\\\n",
       "\\hline\n",
       "\t World        & 2013         & 5001         & EFConsPerCap & 0.5539028    & 0.1582954    & 0.2779329    & 0.0907955    & 0.06408095   & 1.723774     & 2.868783     & 6           \\\\\n",
       "\\end{tabular}\n"
      ],
      "text/markdown": [
       "\n",
       "country | year | country_code | record | crop_land | grazing_land | forest_land | fishing_ground | built_up_land | carbon | total | QScore | \n",
       "|---|\n",
       "| World        | 2013         | 5001         | EFConsPerCap | 0.5539028    | 0.1582954    | 0.2779329    | 0.0907955    | 0.06408095   | 1.723774     | 2.868783     | 6            | \n",
       "\n",
       "\n"
      ],
      "text/plain": [
       "  country year country_code record       crop_land grazing_land forest_land\n",
       "1 World   2013 5001         EFConsPerCap 0.5539028 0.1582954    0.2779329  \n",
       "  fishing_ground built_up_land carbon   total    QScore\n",
       "1 0.0907955      0.06408095    1.723774 2.868783 6     "
      ]
     },
     "metadata": {},
     "output_type": "display_data"
    }
   ],
   "source": [
    "# Current world Footprint\n",
    "nfa_2017_edition  %>% \n",
    "    filter(country == \"World\") %>% \n",
    "    filter(record == \"EFConsPerCap\") %>% \n",
    "    arrange(desc(year)) %>% \n",
    "    head(1)"
   ]
  },
  {
   "cell_type": "code",
   "execution_count": 29,
   "metadata": {},
   "outputs": [
    {
     "data": {
      "text/html": [
       "<table>\n",
       "<thead><tr><th scope=col>country</th><th scope=col>year</th><th scope=col>country_code</th><th scope=col>record</th><th scope=col>crop_land</th><th scope=col>grazing_land</th><th scope=col>forest_land</th><th scope=col>fishing_ground</th><th scope=col>built_up_land</th><th scope=col>carbon</th><th scope=col>total</th><th scope=col>QScore</th></tr></thead>\n",
       "<tbody>\n",
       "\t<tr><td>Haiti       </td><td>2013        </td><td>93          </td><td>EFConsPerCap</td><td>0.3036046   </td><td>0.03685896  </td><td>0.1008213   </td><td>0.01689779  </td><td>0.0295203   </td><td>0.1194957   </td><td>0.6071986   </td><td>6           </td></tr>\n",
       "</tbody>\n",
       "</table>\n"
      ],
      "text/latex": [
       "\\begin{tabular}{r|llllllllllll}\n",
       " country & year & country\\_code & record & crop\\_land & grazing\\_land & forest\\_land & fishing\\_ground & built\\_up\\_land & carbon & total & QScore\\\\\n",
       "\\hline\n",
       "\t Haiti        & 2013         & 93           & EFConsPerCap & 0.3036046    & 0.03685896   & 0.1008213    & 0.01689779   & 0.0295203    & 0.1194957    & 0.6071986    & 6           \\\\\n",
       "\\end{tabular}\n"
      ],
      "text/markdown": [
       "\n",
       "country | year | country_code | record | crop_land | grazing_land | forest_land | fishing_ground | built_up_land | carbon | total | QScore | \n",
       "|---|\n",
       "| Haiti        | 2013         | 93           | EFConsPerCap | 0.3036046    | 0.03685896   | 0.1008213    | 0.01689779   | 0.0295203    | 0.1194957    | 0.6071986    | 6            | \n",
       "\n",
       "\n"
      ],
      "text/plain": [
       "  country year country_code record       crop_land grazing_land forest_land\n",
       "1 Haiti   2013 93           EFConsPerCap 0.3036046 0.03685896   0.1008213  \n",
       "  fishing_ground built_up_land carbon    total     QScore\n",
       "1 0.01689779     0.0295203     0.1194957 0.6071986 6     "
      ]
     },
     "metadata": {},
     "output_type": "display_data"
    }
   ],
   "source": [
    "# Current footpring of Haiti\n",
    "nfa_2017_edition  %>% \n",
    "    filter(country == \"Haiti\") %>% \n",
    "    filter(record == \"EFConsPerCap\") %>% \n",
    "    arrange(desc(year)) %>% \n",
    "    head(1)"
   ]
  },
  {
   "cell_type": "code",
   "execution_count": 30,
   "metadata": {},
   "outputs": [
    {
     "data": {
      "text/html": [
       "<table>\n",
       "<thead><tr><th scope=col>country</th><th scope=col>year</th><th scope=col>country_code</th><th scope=col>record</th><th scope=col>crop_land</th><th scope=col>grazing_land</th><th scope=col>forest_land</th><th scope=col>fishing_ground</th><th scope=col>built_up_land</th><th scope=col>carbon</th><th scope=col>total</th><th scope=col>QScore</th></tr></thead>\n",
       "<tbody>\n",
       "\t<tr><td>Luxembourg  </td><td>2013        </td><td>256         </td><td>EFConsPerCap</td><td>1.065997    </td><td>0.7324783   </td><td>0.6459861   </td><td>0.1340623   </td><td>0.1387033   </td><td>10.37437    </td><td>13.09159    </td><td>5           </td></tr>\n",
       "</tbody>\n",
       "</table>\n"
      ],
      "text/latex": [
       "\\begin{tabular}{r|llllllllllll}\n",
       " country & year & country\\_code & record & crop\\_land & grazing\\_land & forest\\_land & fishing\\_ground & built\\_up\\_land & carbon & total & QScore\\\\\n",
       "\\hline\n",
       "\t Luxembourg   & 2013         & 256          & EFConsPerCap & 1.065997     & 0.7324783    & 0.6459861    & 0.1340623    & 0.1387033    & 10.37437     & 13.09159     & 5           \\\\\n",
       "\\end{tabular}\n"
      ],
      "text/markdown": [
       "\n",
       "country | year | country_code | record | crop_land | grazing_land | forest_land | fishing_ground | built_up_land | carbon | total | QScore | \n",
       "|---|\n",
       "| Luxembourg   | 2013         | 256          | EFConsPerCap | 1.065997     | 0.7324783    | 0.6459861    | 0.1340623    | 0.1387033    | 10.37437     | 13.09159     | 5            | \n",
       "\n",
       "\n"
      ],
      "text/plain": [
       "  country    year country_code record       crop_land grazing_land forest_land\n",
       "1 Luxembourg 2013 256          EFConsPerCap 1.065997  0.7324783    0.6459861  \n",
       "  fishing_ground built_up_land carbon   total    QScore\n",
       "1 0.1340623      0.1387033     10.37437 13.09159 5     "
      ]
     },
     "metadata": {},
     "output_type": "display_data"
    }
   ],
   "source": [
    "# Current footpring of Haiti\n",
    "nfa_2017_edition  %>% \n",
    "    filter(country == \"Luxembourg\") %>% \n",
    "    filter(record == \"EFConsPerCap\") %>% \n",
    "    arrange(desc(year)) %>% \n",
    "    head(1)"
   ]
  },
  {
   "cell_type": "code",
   "execution_count": 42,
   "metadata": {
    "scrolled": true
   },
   "outputs": [
    {
     "data": {
      "text/html": [
       "<table>\n",
       "<thead><tr><th scope=col>country</th><th scope=col>year</th><th scope=col>country_code</th><th scope=col>record</th><th scope=col>crop_land</th><th scope=col>grazing_land</th><th scope=col>forest_land</th><th scope=col>fishing_ground</th><th scope=col>built_up_land</th><th scope=col>carbon</th><th scope=col>total</th><th scope=col>QScore</th></tr></thead>\n",
       "<tbody>\n",
       "\t<tr><td>World       </td><td>2013        </td><td>5001        </td><td>EFConsPerCap</td><td>0.5539028   </td><td>0.1582954   </td><td>0.2779329   </td><td>0.0907955   </td><td>0.06408095  </td><td>1.723774    </td><td>2.868783    </td><td>6           </td></tr>\n",
       "</tbody>\n",
       "</table>\n"
      ],
      "text/latex": [
       "\\begin{tabular}{r|llllllllllll}\n",
       " country & year & country\\_code & record & crop\\_land & grazing\\_land & forest\\_land & fishing\\_ground & built\\_up\\_land & carbon & total & QScore\\\\\n",
       "\\hline\n",
       "\t World        & 2013         & 5001         & EFConsPerCap & 0.5539028    & 0.1582954    & 0.2779329    & 0.0907955    & 0.06408095   & 1.723774     & 2.868783     & 6           \\\\\n",
       "\\end{tabular}\n"
      ],
      "text/markdown": [
       "\n",
       "country | year | country_code | record | crop_land | grazing_land | forest_land | fishing_ground | built_up_land | carbon | total | QScore | \n",
       "|---|\n",
       "| World        | 2013         | 5001         | EFConsPerCap | 0.5539028    | 0.1582954    | 0.2779329    | 0.0907955    | 0.06408095   | 1.723774     | 2.868783     | 6            | \n",
       "\n",
       "\n"
      ],
      "text/plain": [
       "  country year country_code record       crop_land grazing_land forest_land\n",
       "1 World   2013 5001         EFConsPerCap 0.5539028 0.1582954    0.2779329  \n",
       "  fishing_ground built_up_land carbon   total    QScore\n",
       "1 0.0907955      0.06408095    1.723774 2.868783 6     "
      ]
     },
     "metadata": {},
     "output_type": "display_data"
    },
    {
     "data": {
      "text/html": [
       "<table>\n",
       "<thead><tr><th scope=col>country</th><th scope=col>year</th><th scope=col>country_code</th><th scope=col>record</th><th scope=col>crop_land</th><th scope=col>grazing_land</th><th scope=col>forest_land</th><th scope=col>fishing_ground</th><th scope=col>built_up_land</th><th scope=col>carbon</th><th scope=col>total</th><th scope=col>QScore</th></tr></thead>\n",
       "<tbody>\n",
       "\t<tr><td>World       </td><td>1961        </td><td>5001        </td><td>EFConsPerCap</td><td>0.4631302   </td><td>0.2642444   </td><td>0.4305947   </td><td>0.09527934  </td><td>0.02618594  </td><td>0.9919088   </td><td>2.271341    </td><td>6           </td></tr>\n",
       "</tbody>\n",
       "</table>\n"
      ],
      "text/latex": [
       "\\begin{tabular}{r|llllllllllll}\n",
       " country & year & country\\_code & record & crop\\_land & grazing\\_land & forest\\_land & fishing\\_ground & built\\_up\\_land & carbon & total & QScore\\\\\n",
       "\\hline\n",
       "\t World        & 1961         & 5001         & EFConsPerCap & 0.4631302    & 0.2642444    & 0.4305947    & 0.09527934   & 0.02618594   & 0.9919088    & 2.271341     & 6           \\\\\n",
       "\\end{tabular}\n"
      ],
      "text/markdown": [
       "\n",
       "country | year | country_code | record | crop_land | grazing_land | forest_land | fishing_ground | built_up_land | carbon | total | QScore | \n",
       "|---|\n",
       "| World        | 1961         | 5001         | EFConsPerCap | 0.4631302    | 0.2642444    | 0.4305947    | 0.09527934   | 0.02618594   | 0.9919088    | 2.271341     | 6            | \n",
       "\n",
       "\n"
      ],
      "text/plain": [
       "  country year country_code record       crop_land grazing_land forest_land\n",
       "1 World   1961 5001         EFConsPerCap 0.4631302 0.2642444    0.4305947  \n",
       "  fishing_ground built_up_land carbon    total    QScore\n",
       "1 0.09527934     0.02618594    0.9919088 2.271341 6     "
      ]
     },
     "metadata": {},
     "output_type": "display_data"
    },
    {
     "data": {
      "text/html": [
       "<table>\n",
       "<thead><tr><th scope=col>country</th><th scope=col>year</th><th scope=col>country_code</th><th scope=col>record</th><th scope=col>crop_land</th><th scope=col>grazing_land</th><th scope=col>forest_land</th><th scope=col>fishing_ground</th><th scope=col>built_up_land</th><th scope=col>carbon</th><th scope=col>total</th><th scope=col>QScore</th></tr></thead>\n",
       "<tbody>\n",
       "\t<tr><td>World       </td><td>2013        </td><td>5001        </td><td>BiocapPerCap</td><td>0.5539028   </td><td>0.2131634   </td><td>0.7218349   </td><td>0.1523134   </td><td>0.06408095  </td><td>0           </td><td>1.705295    </td><td>6           </td></tr>\n",
       "</tbody>\n",
       "</table>\n"
      ],
      "text/latex": [
       "\\begin{tabular}{r|llllllllllll}\n",
       " country & year & country\\_code & record & crop\\_land & grazing\\_land & forest\\_land & fishing\\_ground & built\\_up\\_land & carbon & total & QScore\\\\\n",
       "\\hline\n",
       "\t World        & 2013         & 5001         & BiocapPerCap & 0.5539028    & 0.2131634    & 0.7218349    & 0.1523134    & 0.06408095   & 0            & 1.705295     & 6           \\\\\n",
       "\\end{tabular}\n"
      ],
      "text/markdown": [
       "\n",
       "country | year | country_code | record | crop_land | grazing_land | forest_land | fishing_ground | built_up_land | carbon | total | QScore | \n",
       "|---|\n",
       "| World        | 2013         | 5001         | BiocapPerCap | 0.5539028    | 0.2131634    | 0.7218349    | 0.1523134    | 0.06408095   | 0            | 1.705295     | 6            | \n",
       "\n",
       "\n"
      ],
      "text/plain": [
       "  country year country_code record       crop_land grazing_land forest_land\n",
       "1 World   2013 5001         BiocapPerCap 0.5539028 0.2131634    0.7218349  \n",
       "  fishing_ground built_up_land carbon total    QScore\n",
       "1 0.1523134      0.06408095    0      1.705295 6     "
      ]
     },
     "metadata": {},
     "output_type": "display_data"
    },
    {
     "data": {
      "text/html": [
       "<table>\n",
       "<thead><tr><th scope=col>country</th><th scope=col>year</th><th scope=col>country_code</th><th scope=col>record</th><th scope=col>crop_land</th><th scope=col>grazing_land</th><th scope=col>forest_land</th><th scope=col>fishing_ground</th><th scope=col>built_up_land</th><th scope=col>carbon</th><th scope=col>total</th><th scope=col>QScore</th></tr></thead>\n",
       "<tbody>\n",
       "\t<tr><td>World       </td><td>1961        </td><td>5001        </td><td>BiocapPerCap</td><td>0.4631302   </td><td>0.4805951   </td><td>1.787341    </td><td>0.3667015   </td><td>0.02618594  </td><td>0           </td><td>3.123954    </td><td>6           </td></tr>\n",
       "</tbody>\n",
       "</table>\n"
      ],
      "text/latex": [
       "\\begin{tabular}{r|llllllllllll}\n",
       " country & year & country\\_code & record & crop\\_land & grazing\\_land & forest\\_land & fishing\\_ground & built\\_up\\_land & carbon & total & QScore\\\\\n",
       "\\hline\n",
       "\t World        & 1961         & 5001         & BiocapPerCap & 0.4631302    & 0.4805951    & 1.787341     & 0.3667015    & 0.02618594   & 0            & 3.123954     & 6           \\\\\n",
       "\\end{tabular}\n"
      ],
      "text/markdown": [
       "\n",
       "country | year | country_code | record | crop_land | grazing_land | forest_land | fishing_ground | built_up_land | carbon | total | QScore | \n",
       "|---|\n",
       "| World        | 1961         | 5001         | BiocapPerCap | 0.4631302    | 0.4805951    | 1.787341     | 0.3667015    | 0.02618594   | 0            | 3.123954     | 6            | \n",
       "\n",
       "\n"
      ],
      "text/plain": [
       "  country year country_code record       crop_land grazing_land forest_land\n",
       "1 World   1961 5001         BiocapPerCap 0.4631302 0.4805951    1.787341   \n",
       "  fishing_ground built_up_land carbon total    QScore\n",
       "1 0.3667015      0.02618594    0      3.123954 6     "
      ]
     },
     "metadata": {},
     "output_type": "display_data"
    }
   ],
   "source": [
    "# World history\n",
    "nfa_2017_edition  %>% \n",
    "    filter(country == \"World\") %>% \n",
    "    filter(record == \"EFConsPerCap\") %>% \n",
    "    arrange(desc(year)) -> world_footprint\n",
    "\n",
    "head(world_footprint, 1) \n",
    "tail(world_footprint, 1) \n",
    "\n",
    "nfa_2017_edition  %>% \n",
    "    filter(country == \"World\") %>% \n",
    "    filter(record == \"BiocapPerCap\") %>% \n",
    "    arrange(desc(year)) -> world_footprint\n",
    "\n",
    "head(world_footprint, 1) \n",
    "tail(world_footprint, 1) "
   ]
  },
  {
   "cell_type": "code",
   "execution_count": 43,
   "metadata": {},
   "outputs": [
    {
     "data": {
      "text/html": [
       "<table>\n",
       "<thead><tr><th scope=col>country</th><th scope=col>year</th><th scope=col>country_code</th><th scope=col>record</th><th scope=col>crop_land</th><th scope=col>grazing_land</th><th scope=col>forest_land</th><th scope=col>fishing_ground</th><th scope=col>built_up_land</th><th scope=col>carbon</th><th scope=col>total</th><th scope=col>QScore</th></tr></thead>\n",
       "<tbody>\n",
       "\t<tr><td>Switzerland </td><td>2013        </td><td>211         </td><td>EFConsPerCap</td><td>0.7103427   </td><td>0.224549    </td><td>0.3471569   </td><td>0.06928158  </td><td>0.1068956   </td><td>3.824961    </td><td>5.283186    </td><td>6           </td></tr>\n",
       "</tbody>\n",
       "</table>\n"
      ],
      "text/latex": [
       "\\begin{tabular}{r|llllllllllll}\n",
       " country & year & country\\_code & record & crop\\_land & grazing\\_land & forest\\_land & fishing\\_ground & built\\_up\\_land & carbon & total & QScore\\\\\n",
       "\\hline\n",
       "\t Switzerland  & 2013         & 211          & EFConsPerCap & 0.7103427    & 0.224549     & 0.3471569    & 0.06928158   & 0.1068956    & 3.824961     & 5.283186     & 6           \\\\\n",
       "\\end{tabular}\n"
      ],
      "text/markdown": [
       "\n",
       "country | year | country_code | record | crop_land | grazing_land | forest_land | fishing_ground | built_up_land | carbon | total | QScore | \n",
       "|---|\n",
       "| Switzerland  | 2013         | 211          | EFConsPerCap | 0.7103427    | 0.224549     | 0.3471569    | 0.06928158   | 0.1068956    | 3.824961     | 5.283186     | 6            | \n",
       "\n",
       "\n"
      ],
      "text/plain": [
       "  country     year country_code record       crop_land grazing_land forest_land\n",
       "1 Switzerland 2013 211          EFConsPerCap 0.7103427 0.224549     0.3471569  \n",
       "  fishing_ground built_up_land carbon   total    QScore\n",
       "1 0.06928158     0.1068956     3.824961 5.283186 6     "
      ]
     },
     "metadata": {},
     "output_type": "display_data"
    }
   ],
   "source": [
    "# Current footpring of Switerland\n",
    "nfa_2017_edition  %>% \n",
    "    filter(country == \"Switzerland\") %>% \n",
    "    filter(record == \"EFConsPerCap\") %>% \n",
    "    arrange(desc(year)) %>% \n",
    "    head(1)"
   ]
  },
  {
   "cell_type": "code",
   "execution_count": 44,
   "metadata": {},
   "outputs": [
    {
     "data": {
      "text/html": [
       "<table>\n",
       "<thead><tr><th scope=col>country</th><th scope=col>year</th><th scope=col>country_code</th><th scope=col>record</th><th scope=col>crop_land</th><th scope=col>grazing_land</th><th scope=col>forest_land</th><th scope=col>fishing_ground</th><th scope=col>built_up_land</th><th scope=col>carbon</th><th scope=col>total</th><th scope=col>QScore</th></tr></thead>\n",
       "<tbody>\n",
       "\t<tr><td>Switzerland </td><td>2013        </td><td>211         </td><td>BiocapPerCap</td><td>0.2793591   </td><td>0.1149334   </td><td>0.7317722   </td><td>0.006429604 </td><td>0.1068956   </td><td>0           </td><td>1.23939     </td><td>6           </td></tr>\n",
       "</tbody>\n",
       "</table>\n"
      ],
      "text/latex": [
       "\\begin{tabular}{r|llllllllllll}\n",
       " country & year & country\\_code & record & crop\\_land & grazing\\_land & forest\\_land & fishing\\_ground & built\\_up\\_land & carbon & total & QScore\\\\\n",
       "\\hline\n",
       "\t Switzerland  & 2013         & 211          & BiocapPerCap & 0.2793591    & 0.1149334    & 0.7317722    & 0.006429604  & 0.1068956    & 0            & 1.23939      & 6           \\\\\n",
       "\\end{tabular}\n"
      ],
      "text/markdown": [
       "\n",
       "country | year | country_code | record | crop_land | grazing_land | forest_land | fishing_ground | built_up_land | carbon | total | QScore | \n",
       "|---|\n",
       "| Switzerland  | 2013         | 211          | BiocapPerCap | 0.2793591    | 0.1149334    | 0.7317722    | 0.006429604  | 0.1068956    | 0            | 1.23939      | 6            | \n",
       "\n",
       "\n"
      ],
      "text/plain": [
       "  country     year country_code record       crop_land grazing_land forest_land\n",
       "1 Switzerland 2013 211          BiocapPerCap 0.2793591 0.1149334    0.7317722  \n",
       "  fishing_ground built_up_land carbon total   QScore\n",
       "1 0.006429604    0.1068956     0      1.23939 6     "
      ]
     },
     "metadata": {},
     "output_type": "display_data"
    }
   ],
   "source": [
    "# Current biocap of Switerland\n",
    "nfa_2017_edition  %>% \n",
    "    filter(country == \"Switzerland\") %>% \n",
    "    filter(record == \"BiocapPerCap\") %>% \n",
    "    arrange(desc(year)) %>% \n",
    "    head(1)"
   ]
  }
 ],
 "metadata": {
  "kernelspec": {
   "display_name": "R",
   "language": "R",
   "name": "ir"
  },
  "language_info": {
   "codemirror_mode": "r",
   "file_extension": ".r",
   "mimetype": "text/x-r-source",
   "name": "R",
   "pygments_lexer": "r",
   "version": "3.3.2"
  }
 },
 "nbformat": 4,
 "nbformat_minor": 2
}
